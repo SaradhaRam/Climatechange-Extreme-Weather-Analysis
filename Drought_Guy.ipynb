{
 "cells": [
  {
   "cell_type": "code",
   "execution_count": 19,
   "metadata": {},
   "outputs": [],
   "source": [
    "import os\n",
    "import pandas as pd\n",
    "import matplotlib.pyplot as plt\n",
    "from scipy.stats import linregress\n",
    "import scipy.stats as st"
   ]
  },
  {
   "cell_type": "code",
   "execution_count": 5,
   "metadata": {},
   "outputs": [],
   "source": [
    "# Data file paths\n",
    "temp = \"drought_data/average_temp_2000_2020.txt\"\n",
    "df = \"drought_data/drought_data.csv\"\n",
    "\n",
    "# Store data into dataframes\n",
    "temp = pd.read_csv(temp)\n",
    "df = pd.read_csv(df)"
   ]
  },
  {
   "cell_type": "code",
   "execution_count": 6,
   "metadata": {},
   "outputs": [
    {
     "data": {
      "image/png": "[encoded data removed]",
      "text/plain": [
       "<Figure size 432x288 with 1 Axes>"
      ]
     },
     "metadata": {
      "needs_background": "light"
     },
     "output_type": "display_data"
    }
   ],
   "source": [
    "lines = temp.plot.line(x=\"Year\", y=\"Average_Temp\")"
   ]
  },
  {
   "cell_type": "code",
   "execution_count": 7,
   "metadata": {},
   "outputs": [],
   "source": [
    "df_group=df.groupby([\"Year\"])"
   ]
  },
  {
   "cell_type": "code",
   "execution_count": 8,
   "metadata": {},
   "outputs": [
    {
     "data": {
      "text/html": [
       "<div>\n",
       "<style scoped>\n",
       "    .dataframe tbody tr th:only-of-type {\n",
       "        vertical-align: middle;\n",
       "    }\n",
       "\n",
       "    .dataframe tbody tr th {\n",
       "        vertical-align: top;\n",
       "    }\n",
       "\n",
       "    .dataframe thead th {\n",
       "        text-align: right;\n",
       "    }\n",
       "</style>\n",
       "<table border=\"1\" class=\"dataframe\">\n",
       "  <thead>\n",
       "    <tr style=\"text-align: right;\">\n",
       "      <th></th>\n",
       "      <th>MapDate</th>\n",
       "      <th>None</th>\n",
       "      <th>D4</th>\n",
       "    </tr>\n",
       "    <tr>\n",
       "      <th>Year</th>\n",
       "      <th></th>\n",
       "      <th></th>\n",
       "      <th></th>\n",
       "    </tr>\n",
       "  </thead>\n",
       "  <tbody>\n",
       "    <tr>\n",
       "      <th>2000</th>\n",
       "      <td>2.000066e+07</td>\n",
       "      <td>50.503846</td>\n",
       "      <td>0.777885</td>\n",
       "    </tr>\n",
       "    <tr>\n",
       "      <th>2001</th>\n",
       "      <td>2.001066e+07</td>\n",
       "      <td>55.387500</td>\n",
       "      <td>0.195577</td>\n",
       "    </tr>\n",
       "    <tr>\n",
       "      <th>2002</th>\n",
       "      <td>2.002067e+07</td>\n",
       "      <td>37.202075</td>\n",
       "      <td>2.118868</td>\n",
       "    </tr>\n",
       "    <tr>\n",
       "      <th>2003</th>\n",
       "      <td>2.003068e+07</td>\n",
       "      <td>41.161346</td>\n",
       "      <td>1.823462</td>\n",
       "    </tr>\n",
       "    <tr>\n",
       "      <th>2004</th>\n",
       "      <td>2.004067e+07</td>\n",
       "      <td>52.420192</td>\n",
       "      <td>1.423654</td>\n",
       "    </tr>\n",
       "    <tr>\n",
       "      <th>2005</th>\n",
       "      <td>2.005067e+07</td>\n",
       "      <td>56.354038</td>\n",
       "      <td>0.407115</td>\n",
       "    </tr>\n",
       "    <tr>\n",
       "      <th>2006</th>\n",
       "      <td>2.006118e+07</td>\n",
       "      <td>48.933273</td>\n",
       "      <td>0.871091</td>\n",
       "    </tr>\n",
       "    <tr>\n",
       "      <th>2007</th>\n",
       "      <td>2.007069e+07</td>\n",
       "      <td>46.073878</td>\n",
       "      <td>1.431837</td>\n",
       "    </tr>\n",
       "    <tr>\n",
       "      <th>2008</th>\n",
       "      <td>2.008067e+07</td>\n",
       "      <td>51.862642</td>\n",
       "      <td>0.658113</td>\n",
       "    </tr>\n",
       "    <tr>\n",
       "      <th>2009</th>\n",
       "      <td>2.009067e+07</td>\n",
       "      <td>62.907500</td>\n",
       "      <td>0.676346</td>\n",
       "    </tr>\n",
       "    <tr>\n",
       "      <th>2010</th>\n",
       "      <td>2.010067e+07</td>\n",
       "      <td>68.947308</td>\n",
       "      <td>0.000000</td>\n",
       "    </tr>\n",
       "    <tr>\n",
       "      <th>2011</th>\n",
       "      <td>2.011067e+07</td>\n",
       "      <td>59.796154</td>\n",
       "      <td>6.102308</td>\n",
       "    </tr>\n",
       "    <tr>\n",
       "      <th>2012</th>\n",
       "      <td>2.012066e+07</td>\n",
       "      <td>32.255962</td>\n",
       "      <td>3.588846</td>\n",
       "    </tr>\n",
       "    <tr>\n",
       "      <th>2013</th>\n",
       "      <td>2.013067e+07</td>\n",
       "      <td>39.747170</td>\n",
       "      <td>3.194906</td>\n",
       "    </tr>\n",
       "    <tr>\n",
       "      <th>2014</th>\n",
       "      <td>2.014068e+07</td>\n",
       "      <td>51.294231</td>\n",
       "      <td>2.929423</td>\n",
       "    </tr>\n",
       "    <tr>\n",
       "      <th>2015</th>\n",
       "      <td>2.015067e+07</td>\n",
       "      <td>52.720385</td>\n",
       "      <td>3.038654</td>\n",
       "    </tr>\n",
       "    <tr>\n",
       "      <th>2016</th>\n",
       "      <td>2.016067e+07</td>\n",
       "      <td>58.814615</td>\n",
       "      <td>1.601346</td>\n",
       "    </tr>\n",
       "    <tr>\n",
       "      <th>2017</th>\n",
       "      <td>2.017066e+07</td>\n",
       "      <td>68.196538</td>\n",
       "      <td>0.216346</td>\n",
       "    </tr>\n",
       "    <tr>\n",
       "      <th>2018</th>\n",
       "      <td>2.018066e+07</td>\n",
       "      <td>52.012500</td>\n",
       "      <td>1.243077</td>\n",
       "    </tr>\n",
       "    <tr>\n",
       "      <th>2019</th>\n",
       "      <td>2.019067e+07</td>\n",
       "      <td>76.425283</td>\n",
       "      <td>0.076604</td>\n",
       "    </tr>\n",
       "    <tr>\n",
       "      <th>2020</th>\n",
       "      <td>2.020067e+07</td>\n",
       "      <td>54.944231</td>\n",
       "      <td>1.597500</td>\n",
       "    </tr>\n",
       "  </tbody>\n",
       "</table>\n",
       "</div>"
      ],
      "text/plain": [
       "           MapDate       None        D4\n",
       "Year                                   \n",
       "2000  2.000066e+07  50.503846  0.777885\n",
       "2001  2.001066e+07  55.387500  0.195577\n",
       "2002  2.002067e+07  37.202075  2.118868\n",
       "2003  2.003068e+07  41.161346  1.823462\n",
       "2004  2.004067e+07  52.420192  1.423654\n",
       "2005  2.005067e+07  56.354038  0.407115\n",
       "2006  2.006118e+07  48.933273  0.871091\n",
       "2007  2.007069e+07  46.073878  1.431837\n",
       "2008  2.008067e+07  51.862642  0.658113\n",
       "2009  2.009067e+07  62.907500  0.676346\n",
       "2010  2.010067e+07  68.947308  0.000000\n",
       "2011  2.011067e+07  59.796154  6.102308\n",
       "2012  2.012066e+07  32.255962  3.588846\n",
       "2013  2.013067e+07  39.747170  3.194906\n",
       "2014  2.014068e+07  51.294231  2.929423\n",
       "2015  2.015067e+07  52.720385  3.038654\n",
       "2016  2.016067e+07  58.814615  1.601346\n",
       "2017  2.017066e+07  68.196538  0.216346\n",
       "2018  2.018066e+07  52.012500  1.243077\n",
       "2019  2.019067e+07  76.425283  0.076604\n",
       "2020  2.020067e+07  54.944231  1.597500"
      ]
     },
     "execution_count": 8,
     "metadata": {},
     "output_type": "execute_result"
    }
   ],
   "source": [
    "df_group.mean()"
   ]
  },
  {
   "cell_type": "code",
   "execution_count": 9,
   "metadata": {},
   "outputs": [
    {
     "data": {
      "text/plain": [
       "Year\n",
       "2000    0.777885\n",
       "2001    0.195577\n",
       "2002    2.118868\n",
       "2003    1.823462\n",
       "2004    1.423654\n",
       "2005    0.407115\n",
       "2006    0.871091\n",
       "2007    1.431837\n",
       "2008    0.658113\n",
       "2009    0.676346\n",
       "2010    0.000000\n",
       "2011    6.102308\n",
       "2012    3.588846\n",
       "2013    3.194906\n",
       "2014    2.929423\n",
       "2015    3.038654\n",
       "2016    1.601346\n",
       "2017    0.216346\n",
       "2018    1.243077\n",
       "2019    0.076604\n",
       "2020    1.597500\n",
       "Name: D4, dtype: float64"
      ]
     },
     "execution_count": 9,
     "metadata": {},
     "output_type": "execute_result"
    }
   ],
   "source": [
    "d4 = df_group.mean()\n",
    "\n",
    "d4 = d4[\"D4\"]\n",
    "d4"
   ]
  },
  {
   "cell_type": "code",
   "execution_count": 10,
   "metadata": {},
   "outputs": [
    {
     "data": {
      "text/plain": [
       "0     2000\n",
       "1     2001\n",
       "2     2002\n",
       "3     2003\n",
       "4     2004\n",
       "5     2005\n",
       "6     2006\n",
       "7     2007\n",
       "8     2008\n",
       "9     2009\n",
       "10    2010\n",
       "11    2011\n",
       "12    2012\n",
       "13    2013\n",
       "14    2014\n",
       "15    2015\n",
       "16    2016\n",
       "17    2017\n",
       "18    2018\n",
       "19    2019\n",
       "20    2020\n",
       "Name: Year, dtype: int64"
      ]
     },
     "execution_count": 10,
     "metadata": {},
     "output_type": "execute_result"
    }
   ],
   "source": [
    "year = temp[\"Year\"]\n",
    "year"
   ]
  },
  {
   "cell_type": "code",
   "execution_count": 11,
   "metadata": {},
   "outputs": [
    {
     "data": {
      "text/plain": [
       "0     53.27\n",
       "1     53.69\n",
       "2     53.21\n",
       "3     53.26\n",
       "4     53.10\n",
       "5     53.64\n",
       "6     54.25\n",
       "7     53.65\n",
       "8     52.29\n",
       "9     52.39\n",
       "10    52.98\n",
       "11    53.18\n",
       "12    55.28\n",
       "13    52.43\n",
       "14    52.54\n",
       "15    54.40\n",
       "16    54.92\n",
       "17    54.55\n",
       "18    53.52\n",
       "19    52.68\n",
       "20    54.36\n",
       "Name: Average_Temp, dtype: float64"
      ]
     },
     "execution_count": 11,
     "metadata": {},
     "output_type": "execute_result"
    }
   ],
   "source": [
    "temp = temp[\"Average_Temp\"]\n",
    "temp"
   ]
  },
  {
   "cell_type": "code",
   "execution_count": 13,
   "metadata": {},
   "outputs": [
    {
     "data": {
      "image/png": "[encoded data removed]",
      "text/plain": [
       "<Figure size 432x288 with 1 Axes>"
      ]
     },
     "metadata": {
      "needs_background": "light"
     },
     "output_type": "display_data"
    }
   ],
   "source": [
    "# Create x and y axis for bar chart\n",
    "x_axis = year\n",
    "y_axis = d4\n",
    "\n",
    "# Create bar plot to display number of tropical storms per year\n",
    "plt.bar(x_axis, y_axis, color='b', align=\"center\")\n",
    "plt.title(\"Number of D4 Droughts Per Year\")\n",
    "plt.xlabel(\"Year\")\n",
    "plt.xticks(rotation= 45)\n",
    "plt.ylabel(\"Number of Tropical Storms\")\n",
    "plt.show()"
   ]
  },
  {
   "cell_type": "code",
   "execution_count": 15,
   "metadata": {},
   "outputs": [
    {
     "data": {
      "image/png": "[encoded data removed]",
      "text/plain": [
       "<Figure size 432x288 with 1 Axes>"
      ]
     },
     "metadata": {
      "needs_background": "light"
     },
     "output_type": "display_data"
    }
   ],
   "source": [
    "# Create x and y axis for scatter chart\n",
    "x_axis = temp\n",
    "y_axis = d4\n",
    "\n",
    "# Create scatter chart to display number of tropical storms against average temp.\n",
    "plt.scatter(x_axis, y_axis, color='b')\n",
    "plt.title(\"Number of Droughts vs. Average Temperature (F)\")\n",
    "plt.xlabel(\"Average Temperature (F)\")\n",
    "plt.ylabel(\"Number of Droughts\")\n",
    "plt.show()"
   ]
  },
  {
   "cell_type": "code",
   "execution_count": 22,
   "metadata": {},
   "outputs": [
    {
     "data": {
      "image/png": "[encoded data removed]",
      "text/plain": [
       "<Figure size 432x288 with 1 Axes>"
      ]
     },
     "metadata": {
      "needs_background": "light"
     },
     "output_type": "display_data"
    },
    {
     "name": "stdout",
     "output_type": "stream",
     "text": [
      "The r^2 value is 0.00778424569360928\n"
     ]
    }
   ],
   "source": [
    "# Plot the regression line equation on scatter plot\n",
    "(slope, intercept, rvalue, pvalue, stderr) = linregress(x_axis, y_axis)\n",
    "regress_values = x_axis * slope + intercept\n",
    "line_eq = \"y = \" + str(round(slope,2)) + \"x + \" + str(round(intercept,2))\n",
    "\n",
    "plt.plot(x_axis, regress_values, \"r-\")\n",
    "plt.annotate(line_eq, (53,5), fontsize=15, color=\"red\")\n",
    "\n",
    "plt.title(\"Number of Droughts vs. Average Temperature (F)\")\n",
    "plt.xlabel(\"Average Temperature (F)\")\n",
    "plt.ylabel(\"Number of Tropical Storms\")\n",
    "plt.scatter(x_axis, y_axis)\n",
    "plt.show()\n",
    "\n",
    "# Print r-value\n",
    "r_square = rvalue*rvalue\n",
    "print(f'The r^2 value is {r_square}')"
   ]
  },
  {
   "cell_type": "code",
   "execution_count": 23,
   "metadata": {},
   "outputs": [
    {
     "name": "stdout",
     "output_type": "stream",
     "text": [
      "The predicted number of d4 droughts that will occur in 2022 are 1.4665\n"
     ]
    }
   ],
   "source": [
    "# Using the regression line and predicted temperature for 2022 (53.71), predict the number of hurricanes in 2022\n",
    "droughts_2022 = (0.15 * 53.71) - 6.59\n",
    "print(f'The predicted number of d4 droughts that will occur in 2022 are {droughts_2022}')"
   ]
  }
 ],
 "metadata": {
  "kernelspec": {
   "display_name": "Python 3",
   "language": "python",
   "name": "python3"
  },
  "language_info": {
   "codemirror_mode": {
    "name": "ipython",
    "version": 3
   },
   "file_extension": ".py",
   "mimetype": "text/x-python",
   "name": "python",
   "nbconvert_exporter": "python",
   "pygments_lexer": "ipython3",
   "version": "3.8.5"
  }
 },
 "nbformat": 4,
 "nbformat_minor": 4
}
