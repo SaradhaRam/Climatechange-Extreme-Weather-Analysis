{
 "cells": [
  {
   "cell_type": "code",
   "execution_count": 70,
   "metadata": {},
   "outputs": [],
   "source": [
    "import os\n",
    "import pandas as pd\n",
    "import matplotlib.pyplot as plt\n",
    "from scipy.stats import linregress\n",
    "\n",
    "tornado_raw = pd.DataFrame()\n",
    "directory = \"tornado_cleaned_files\"\n",
    "for entry in os.scandir(directory):\n",
    "    if entry.path.endswith(\".csv\"):\n",
    "        data = pd.read_csv(entry.path)\n",
    "        tornado_raw = tornado_raw.append(data)\n",
    "\n",
    "tornado_cleaned = tornado_raw[(tornado_raw['EVENT_TYPE'] == 'Tornado')]\n",
    "#                               & ((tornado_raw[\"TOR_F_SCALE\"] == \"EF3\") |\n",
    "#                                                                           (tornado_raw[\"TOR_F_SCALE\"] == \"EF4\") |\n",
    "#                                                                           (tornado_raw[\"TOR_F_SCALE\"] == \"EF5\") |\n",
    "#                                                                           (tornado_raw[\"TOR_F_SCALE\"] == \"F3\") |\n",
    "#                                                                           (tornado_raw[\"TOR_F_SCALE\"] == \"F4\") |\n",
    "#                                                                           (tornado_raw[\"TOR_F_SCALE\"] == \"F5\"))]\n",
    "tornado_count = pd.DataFrame(tornado_cleaned.groupby('YEAR')['EVENT_TYPE'].count())\n",
    "tornado_count = tornado_count.rename(columns={'EVENT_TYPE':'Severe_Tornado_Count'})\n",
    "tornado_count.reset_index(inplace=True)"
   ]
  },
  {
   "cell_type": "code",
   "execution_count": 71,
   "metadata": {},
   "outputs": [],
   "source": [
    "temp_directory = \"temperature_average\"\n",
    "temp_data = pd.read_csv(f\"{temp_directory}/average_temp.csv\")\n",
    "temp_data.rename(columns={'Year':'YEAR'}, inplace = True)"
   ]
  },
  {
   "cell_type": "code",
   "execution_count": 72,
   "metadata": {},
   "outputs": [],
   "source": [
    "tornado_count = tornado_count.merge(temp_data,on='YEAR',how=\"inner\")"
   ]
  },
  {
   "cell_type": "code",
   "execution_count": 73,
   "metadata": {
    "scrolled": true
   },
   "outputs": [
    {
     "name": "stdout",
     "output_type": "stream",
     "text": [
      "r^2 correlation between US average temp and tornado count: 0.2354228742526265\n"
     ]
    },
    {
     "data": {
      "image/png": "[encoded data removed]",
      "text/plain": [
       "<Figure size 432x288 with 1 Axes>"
      ]
     },
     "metadata": {
      "needs_background": "light"
     },
     "output_type": "display_data"
    }
   ],
   "source": [
    "tornado_count.plot('Average_Temp','Severe_Tornado_Count',kind = \"scatter\")\n",
    "plt.xlabel('Average Temperature (F)')\n",
    "plt.ylabel('Tornado Count')\n",
    "\n",
    "plt.title('Average Temperature (Contiguous US) vs Tornado Count')\n",
    "(slope, intercept, rvalue, pvalue, stderr) = linregress(tornado_count['Average_Temp'], tornado_count['Severe_Tornado_Count'])\n",
    "print(f'r^2 correlation between US average temp and tornado count: {rvalue**2}')\n",
    "regress_values = tornado_count['Average_Temp'] * slope + intercept\n",
    "plt.plot(tornado_count['Average_Temp'],regress_values)\n",
    "plt.text(54,750,f\"r^2 = {round((rvalue**2),4)}\")\n",
    "plt.show()"
   ]
  },
  {
   "cell_type": "code",
   "execution_count": 74,
   "metadata": {},
   "outputs": [],
   "source": [
    "predicted_temp_2022 = 53.71\n",
    "predicted_tornadoes_2022 = predicted_temp_2022*slope+intercept"
   ]
  },
  {
   "cell_type": "code",
   "execution_count": 75,
   "metadata": {},
   "outputs": [
    {
     "name": "stdout",
     "output_type": "stream",
     "text": [
      "The number of tornadoes in the US predicted for 2022 is 1235.0\n"
     ]
    }
   ],
   "source": [
    "print(f\"The number of tornadoes in the US predicted for 2022 is {round(predicted_tornadoes_2022,0)}\")"
   ]
  },
  {
   "cell_type": "code",
   "execution_count": null,
   "metadata": {},
   "outputs": [],
   "source": []
  }
 ],
 "metadata": {
  "kernelspec": {
   "display_name": "Python 3",
   "language": "python",
   "name": "python3"
  },
  "language_info": {
   "codemirror_mode": {
    "name": "ipython",
    "version": 3
   },
   "file_extension": ".py",
   "mimetype": "text/x-python",
   "name": "python",
   "nbconvert_exporter": "python",
   "pygments_lexer": "ipython3",
   "version": "3.8.5"
  }
 },
 "nbformat": 4,
 "nbformat_minor": 4
}
