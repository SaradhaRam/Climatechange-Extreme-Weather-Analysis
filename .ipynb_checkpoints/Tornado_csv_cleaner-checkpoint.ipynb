{
 "cells": [
  {
   "cell_type": "code",
   "execution_count": 5,
   "metadata": {},
   "outputs": [],
   "source": [
    "import os\n",
    "import pandas as pd\n",
    "\n",
    "directory = \"tornado_source_files\"\n",
    "for entry in os.scandir(directory):\n",
    "    if entry.path.endswith(\".csv\"):\n",
    "        data = pd.read_csv(entry.path)\n",
    "        cleaned_data = data[['YEAR','EVENT_TYPE','TOR_F_SCALE']]\n",
    "        cleaned_data.to_csv(f\"tornado_cleaned_files/cleaned_{entry.name}\",index=False)"
   ]
  },
  {
   "cell_type": "code",
   "execution_count": null,
   "metadata": {},
   "outputs": [],
   "source": []
  }
 ],
 "metadata": {
  "kernelspec": {
   "display_name": "Python 3",
   "language": "python",
   "name": "python3"
  },
  "language_info": {
   "codemirror_mode": {
    "name": "ipython",
    "version": 3
   },
   "file_extension": ".py",
   "mimetype": "text/x-python",
   "name": "python",
   "nbconvert_exporter": "python",
   "pygments_lexer": "ipython3",
   "version": "3.8.5"
  }
 },
 "nbformat": 4,
 "nbformat_minor": 4
}
