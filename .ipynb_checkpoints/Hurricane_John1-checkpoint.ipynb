{
 "cells": [
  {
   "cell_type": "code",
   "execution_count": 2,
   "metadata": {},
   "outputs": [],
   "source": [
    "import os\n",
    "import pandas as pd\n",
    "import matplotlib.pyplot as plt\n",
    "from scipy.stats import linregress"
   ]
  },
  {
   "cell_type": "code",
   "execution_count": 34,
   "metadata": {},
   "outputs": [],
   "source": [
    "# Data file paths\n",
    "temp_path = \"temperature_average/average_temp.csv\"\n",
    "weather_path = \"tropical_storm_file/tropical storms.csv\"\n",
    "\n",
    "# Store data into dataframes\n",
    "temp = pd.read_csv(temp_path)\n",
    "weather = pd.read_csv(weather_path)"
   ]
  },
  {
   "cell_type": "code",
   "execution_count": 35,
   "metadata": {},
   "outputs": [
    {
     "data": {
      "text/html": [
       "<div>\n",
       "<style scoped>\n",
       "    .dataframe tbody tr th:only-of-type {\n",
       "        vertical-align: middle;\n",
       "    }\n",
       "\n",
       "    .dataframe tbody tr th {\n",
       "        vertical-align: top;\n",
       "    }\n",
       "\n",
       "    .dataframe thead th {\n",
       "        text-align: right;\n",
       "    }\n",
       "</style>\n",
       "<table border=\"1\" class=\"dataframe\">\n",
       "  <thead>\n",
       "    <tr style=\"text-align: right;\">\n",
       "      <th></th>\n",
       "      <th>Year</th>\n",
       "      <th>Average_Temp</th>\n",
       "    </tr>\n",
       "  </thead>\n",
       "  <tbody>\n",
       "    <tr>\n",
       "      <th>8</th>\n",
       "      <td>1958</td>\n",
       "      <td>51.93</td>\n",
       "    </tr>\n",
       "    <tr>\n",
       "      <th>9</th>\n",
       "      <td>1959</td>\n",
       "      <td>52.10</td>\n",
       "    </tr>\n",
       "    <tr>\n",
       "      <th>10</th>\n",
       "      <td>1960</td>\n",
       "      <td>51.44</td>\n",
       "    </tr>\n",
       "    <tr>\n",
       "      <th>11</th>\n",
       "      <td>1961</td>\n",
       "      <td>51.87</td>\n",
       "    </tr>\n",
       "    <tr>\n",
       "      <th>12</th>\n",
       "      <td>1962</td>\n",
       "      <td>51.90</td>\n",
       "    </tr>\n",
       "    <tr>\n",
       "      <th>...</th>\n",
       "      <td>...</td>\n",
       "      <td>...</td>\n",
       "    </tr>\n",
       "    <tr>\n",
       "      <th>66</th>\n",
       "      <td>2016</td>\n",
       "      <td>54.92</td>\n",
       "    </tr>\n",
       "    <tr>\n",
       "      <th>67</th>\n",
       "      <td>2017</td>\n",
       "      <td>54.55</td>\n",
       "    </tr>\n",
       "    <tr>\n",
       "      <th>68</th>\n",
       "      <td>2018</td>\n",
       "      <td>53.52</td>\n",
       "    </tr>\n",
       "    <tr>\n",
       "      <th>69</th>\n",
       "      <td>2019</td>\n",
       "      <td>52.68</td>\n",
       "    </tr>\n",
       "    <tr>\n",
       "      <th>70</th>\n",
       "      <td>2020</td>\n",
       "      <td>54.36</td>\n",
       "    </tr>\n",
       "  </tbody>\n",
       "</table>\n",
       "<p>63 rows × 2 columns</p>\n",
       "</div>"
      ],
      "text/plain": [
       "    Year  Average_Temp\n",
       "8   1958         51.93\n",
       "9   1959         52.10\n",
       "10  1960         51.44\n",
       "11  1961         51.87\n",
       "12  1962         51.90\n",
       "..   ...           ...\n",
       "66  2016         54.92\n",
       "67  2017         54.55\n",
       "68  2018         53.52\n",
       "69  2019         52.68\n",
       "70  2020         54.36\n",
       "\n",
       "[63 rows x 2 columns]"
      ]
     },
     "execution_count": 35,
     "metadata": {},
     "output_type": "execute_result"
    }
   ],
   "source": [
    "# Filter out years in temperature dataframe that don't align with weather dataframe\n",
    "temp = temp[temp[\"Year\"] >= 1958]\n",
    "\n",
    "# Display temperature dataframe\n",
    "temp"
   ]
  },
  {
   "cell_type": "code",
   "execution_count": 25,
   "metadata": {},
   "outputs": [
    {
     "data": {
      "text/html": [
       "<div>\n",
       "<style scoped>\n",
       "    .dataframe tbody tr th:only-of-type {\n",
       "        vertical-align: middle;\n",
       "    }\n",
       "\n",
       "    .dataframe tbody tr th {\n",
       "        vertical-align: top;\n",
       "    }\n",
       "\n",
       "    .dataframe thead th {\n",
       "        text-align: right;\n",
       "    }\n",
       "</style>\n",
       "<table border=\"1\" class=\"dataframe\">\n",
       "  <thead>\n",
       "    <tr style=\"text-align: right;\">\n",
       "      <th></th>\n",
       "      <th>StormName</th>\n",
       "      <th>Year</th>\n",
       "      <th>Basin</th>\n",
       "    </tr>\n",
       "  </thead>\n",
       "  <tbody>\n",
       "    <tr>\n",
       "      <th>0</th>\n",
       "      <td>Alberto (Atlantic)</td>\n",
       "      <td>1994</td>\n",
       "      <td>Atlantic</td>\n",
       "    </tr>\n",
       "    <tr>\n",
       "      <th>1</th>\n",
       "      <td>Beryl (Atlantic)</td>\n",
       "      <td>1994</td>\n",
       "      <td>Atlantic</td>\n",
       "    </tr>\n",
       "    <tr>\n",
       "      <th>2</th>\n",
       "      <td>Chris (Atlantic)</td>\n",
       "      <td>1994</td>\n",
       "      <td>Atlantic</td>\n",
       "    </tr>\n",
       "    <tr>\n",
       "      <th>3</th>\n",
       "      <td>Debby (Atlantic)</td>\n",
       "      <td>1994</td>\n",
       "      <td>Atlantic</td>\n",
       "    </tr>\n",
       "    <tr>\n",
       "      <th>4</th>\n",
       "      <td>Ernesto (Atlantic)</td>\n",
       "      <td>1994</td>\n",
       "      <td>Atlantic</td>\n",
       "    </tr>\n",
       "    <tr>\n",
       "      <th>...</th>\n",
       "      <td>...</td>\n",
       "      <td>...</td>\n",
       "      <td>...</td>\n",
       "    </tr>\n",
       "    <tr>\n",
       "      <th>1328</th>\n",
       "      <td>Tropical Storm Lowell (Pacific)</td>\n",
       "      <td>2020</td>\n",
       "      <td>Pacific</td>\n",
       "    </tr>\n",
       "    <tr>\n",
       "      <th>1329</th>\n",
       "      <td>Hurricane Marie (Pacific)</td>\n",
       "      <td>2020</td>\n",
       "      <td>Pacific</td>\n",
       "    </tr>\n",
       "    <tr>\n",
       "      <th>1330</th>\n",
       "      <td>Tropical Storm Norbert (Pacific)</td>\n",
       "      <td>2020</td>\n",
       "      <td>Pacific</td>\n",
       "    </tr>\n",
       "    <tr>\n",
       "      <th>1331</th>\n",
       "      <td>Tropical Storm Polo (Pacific)</td>\n",
       "      <td>2020</td>\n",
       "      <td>Pacific</td>\n",
       "    </tr>\n",
       "    <tr>\n",
       "      <th>1332</th>\n",
       "      <td>Tropical Depression Seven-E was redesignated a...</td>\n",
       "      <td>2020</td>\n",
       "      <td>Pacific</td>\n",
       "    </tr>\n",
       "  </tbody>\n",
       "</table>\n",
       "<p>1333 rows × 3 columns</p>\n",
       "</div>"
      ],
      "text/plain": [
       "                                              StormName  Year     Basin\n",
       "0                                    Alberto (Atlantic)  1994  Atlantic\n",
       "1                                      Beryl (Atlantic)  1994  Atlantic\n",
       "2                                      Chris (Atlantic)  1994  Atlantic\n",
       "3                                      Debby (Atlantic)  1994  Atlantic\n",
       "4                                    Ernesto (Atlantic)  1994  Atlantic\n",
       "...                                                 ...   ...       ...\n",
       "1328                    Tropical Storm Lowell (Pacific)  2020   Pacific\n",
       "1329                          Hurricane Marie (Pacific)  2020   Pacific\n",
       "1330                   Tropical Storm Norbert (Pacific)  2020   Pacific\n",
       "1331                      Tropical Storm Polo (Pacific)  2020   Pacific\n",
       "1332  Tropical Depression Seven-E was redesignated a...  2020   Pacific\n",
       "\n",
       "[1333 rows x 3 columns]"
      ]
     },
     "execution_count": 25,
     "metadata": {},
     "output_type": "execute_result"
    }
   ],
   "source": [
    "# Clean weather dataframe\n",
    "weather.pop(\"li\")\n",
    "\n",
    "# Display weather dataframe\n",
    "weather"
   ]
  },
  {
   "cell_type": "code",
   "execution_count": 47,
   "metadata": {},
   "outputs": [
    {
     "data": {
      "text/plain": [
       "Year\n",
       "1958    10\n",
       "1959    10\n",
       "1960     7\n",
       "1961    10\n",
       "1962     5\n",
       "        ..\n",
       "2016    39\n",
       "2017    38\n",
       "2018    42\n",
       "2019    38\n",
       "2020    34\n",
       "Name: StormName, Length: 63, dtype: int64"
      ]
     },
     "execution_count": 47,
     "metadata": {},
     "output_type": "execute_result"
    }
   ],
   "source": [
    "# Group dataframe by year\n",
    "weather_group = weather.groupby([\"Year\"])\n",
    "\n",
    "# Create series to store the storm name\n",
    "trop_storm = weather_group[\"StormName\"]\n",
    "\n",
    "# Store the number of storms per year into series\n",
    "trop_storm_count = trop_storm.count()\n",
    "\n",
    "# Display series\n",
    "trop_storm_count"
   ]
  },
  {
   "cell_type": "code",
   "execution_count": 48,
   "metadata": {},
   "outputs": [
    {
     "data": {
      "image/png": "[encoded data removed]",
      "text/plain": [
       "<Figure size 432x288 with 1 Axes>"
      ]
     },
     "metadata": {
      "needs_background": "light"
     },
     "output_type": "display_data"
    }
   ],
   "source": [
    "# Create x and y axis for bar chart\n",
    "x_axis = weather[\"Year\"].unique()\n",
    "x_axis.sort()\n",
    "y_axis = trop_storm_count\n",
    "\n",
    "# Create bar plot to display number of tropical storms per year\n",
    "plt.bar(x_axis, y_axis, color='b', align=\"center\")\n",
    "plt.title(\"Number of Tropical Storms Per Year\")\n",
    "plt.xlabel(\"Year\")\n",
    "plt.xticks(rotation= 45)\n",
    "plt.ylabel(\"Number of Tropical Storms\")\n",
    "plt.show()"
   ]
  },
  {
   "cell_type": "code",
   "execution_count": 51,
   "metadata": {},
   "outputs": [
    {
     "data": {
      "image/png": "[encoded data removed]",
      "text/plain": [
       "<Figure size 432x288 with 1 Axes>"
      ]
     },
     "metadata": {
      "needs_background": "light"
     },
     "output_type": "display_data"
    }
   ],
   "source": [
    "# Create x and y axis for scatter chart\n",
    "x_axis = temp[\"Average_Temp\"]\n",
    "y_axis = trop_storm_count\n",
    "\n",
    "# Create scatter chart to display number of tropical storms against average temp.\n",
    "plt.scatter(x_axis, y_axis, color='b')\n",
    "plt.title(\"Number of Tropical Storms vs. Average Temperature (F)\")\n",
    "plt.xlabel(\"Average Temperature\")\n",
    "plt.ylabel(\"Number of Tropical Storms\")\n",
    "plt.show()"
   ]
  },
  {
   "cell_type": "code",
   "execution_count": 53,
   "metadata": {},
   "outputs": [
    {
     "data": {
      "image/png": "[encoded data removed]",
      "text/plain": [
       "<Figure size 432x288 with 1 Axes>"
      ]
     },
     "metadata": {
      "needs_background": "light"
     },
     "output_type": "display_data"
    },
    {
     "name": "stdout",
     "output_type": "stream",
     "text": [
      "The r^2 value is 0.4885981875958564\n"
     ]
    }
   ],
   "source": [
    "# Plot the regression line equation on scatter plot\n",
    "(slope, intercept, rvalue, pvalue, stderr) = linregress(x_axis, y_axis)\n",
    "regress_values = x_axis * slope + intercept\n",
    "line_eq = \"y = \" + str(round(slope,2)) + \"x + \" + str(round(intercept,2))\n",
    "\n",
    "plt.plot(x_axis, regress_values, \"r-\")\n",
    "plt.annotate(line_eq, (53,20), fontsize=15, color=\"red\")\n",
    "\n",
    "plt.title(\"Number of Tropical Storms vs. Average Temperature (F)\")\n",
    "plt.xlabel(\"Average Temperature\")\n",
    "plt.ylabel(\"Number of Tropical Storms\")\n",
    "plt.scatter(x_axis, y_axis)\n",
    "plt.show()\n",
    "\n",
    "# Print r-value\n",
    "r_square = rvalue*rvalue\n",
    "print(f'The r^2 value is {r_square}')"
   ]
  }
 ],
 "metadata": {
  "kernelspec": {
   "display_name": "Python 3",
   "language": "python",
   "name": "python3"
  },
  "language_info": {
   "codemirror_mode": {
    "name": "ipython",
    "version": 3
   },
   "file_extension": ".py",
   "mimetype": "text/x-python",
   "name": "python",
   "nbconvert_exporter": "python",
   "pygments_lexer": "ipython3",
   "version": "3.8.5"
  }
 },
 "nbformat": 4,
 "nbformat_minor": 4
}
