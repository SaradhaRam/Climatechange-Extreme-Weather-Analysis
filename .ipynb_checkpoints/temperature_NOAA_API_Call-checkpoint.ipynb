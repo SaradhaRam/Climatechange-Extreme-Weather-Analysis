{
 "cells": [
  {
   "cell_type": "code",
   "execution_count": 23,
   "metadata": {},
   "outputs": [],
   "source": [
    "import os\n",
    "import pandas as pd\n",
    "import requests\n",
    "import matplotlib.pyplot as plt\n",
    "from scipy.stats import linregress"
   ]
  },
  {
   "cell_type": "code",
   "execution_count": 24,
   "metadata": {},
   "outputs": [
    {
     "data": {
      "text/html": [
       "<div>\n",
       "<style scoped>\n",
       "    .dataframe tbody tr th:only-of-type {\n",
       "        vertical-align: middle;\n",
       "    }\n",
       "\n",
       "    .dataframe tbody tr th {\n",
       "        vertical-align: top;\n",
       "    }\n",
       "\n",
       "    .dataframe thead th {\n",
       "        text-align: right;\n",
       "    }\n",
       "</style>\n",
       "<table border=\"1\" class=\"dataframe\">\n",
       "  <thead>\n",
       "    <tr style=\"text-align: right;\">\n",
       "      <th></th>\n",
       "      <th>Year</th>\n",
       "      <th>Average_Temp</th>\n",
       "    </tr>\n",
       "  </thead>\n",
       "  <tbody>\n",
       "    <tr>\n",
       "      <th>0</th>\n",
       "      <td>1950</td>\n",
       "      <td>51.39</td>\n",
       "    </tr>\n",
       "    <tr>\n",
       "      <th>1</th>\n",
       "      <td>1951</td>\n",
       "      <td>51.12</td>\n",
       "    </tr>\n",
       "    <tr>\n",
       "      <th>2</th>\n",
       "      <td>1952</td>\n",
       "      <td>52.27</td>\n",
       "    </tr>\n",
       "    <tr>\n",
       "      <th>3</th>\n",
       "      <td>1953</td>\n",
       "      <td>53.37</td>\n",
       "    </tr>\n",
       "    <tr>\n",
       "      <th>4</th>\n",
       "      <td>1954</td>\n",
       "      <td>53.33</td>\n",
       "    </tr>\n",
       "    <tr>\n",
       "      <th>...</th>\n",
       "      <td>...</td>\n",
       "      <td>...</td>\n",
       "    </tr>\n",
       "    <tr>\n",
       "      <th>66</th>\n",
       "      <td>2016</td>\n",
       "      <td>54.92</td>\n",
       "    </tr>\n",
       "    <tr>\n",
       "      <th>67</th>\n",
       "      <td>2017</td>\n",
       "      <td>54.55</td>\n",
       "    </tr>\n",
       "    <tr>\n",
       "      <th>68</th>\n",
       "      <td>2018</td>\n",
       "      <td>53.52</td>\n",
       "    </tr>\n",
       "    <tr>\n",
       "      <th>69</th>\n",
       "      <td>2019</td>\n",
       "      <td>52.68</td>\n",
       "    </tr>\n",
       "    <tr>\n",
       "      <th>70</th>\n",
       "      <td>2020</td>\n",
       "      <td>54.36</td>\n",
       "    </tr>\n",
       "  </tbody>\n",
       "</table>\n",
       "<p>71 rows × 2 columns</p>\n",
       "</div>"
      ],
      "text/plain": [
       "    Year Average_Temp\n",
       "0   1950        51.39\n",
       "1   1951        51.12\n",
       "2   1952        52.27\n",
       "3   1953        53.37\n",
       "4   1954        53.33\n",
       "..   ...          ...\n",
       "66  2016        54.92\n",
       "67  2017        54.55\n",
       "68  2018        53.52\n",
       "69  2019        52.68\n",
       "70  2020        54.36\n",
       "\n",
       "[71 rows x 2 columns]"
      ]
     },
     "metadata": {},
     "output_type": "display_data"
    }
   ],
   "source": [
    "beginyear = \"1950\"\n",
    "endyear = \"2021\"\n",
    "\n",
    "url= f\"https://www.ncdc.noaa.gov/cag/national/time-series/110-tavg-12-12-{beginyear}-{endyear}.json?base_prd=true&begbaseyear=1901&endbaseyear=2000\"\n",
    "\n",
    "temp_data = pd.DataFrame(columns=['Year','Average_Temp'])\n",
    "data = requests.get(url).json()\n",
    "values = data['data']\n",
    "\n",
    "for year in values:\n",
    "    temp = values[year]['value']\n",
    "    temp_data = temp_data.append({'Year': year[:4],'Average_Temp':temp},ignore_index=True)\n",
    "    \n",
    "\n",
    "# display(temp_data)\n",
    "temp_data.to_csv(\"temperature_average/average_temp.csv\",index=False)\n"
   ]
  },
  {
   "cell_type": "code",
   "execution_count": 25,
   "metadata": {},
   "outputs": [],
   "source": [
    "temp_data = temp_data.astype({'Year':'int','Average_Temp':'float'})"
   ]
  },
  {
   "cell_type": "code",
   "execution_count": 27,
   "metadata": {},
   "outputs": [
    {
     "name": "stdout",
     "output_type": "stream",
     "text": [
      "r^2 correlation between year and US average temp: 0.4110981281894061\n"
     ]
    },
    {
     "data": {
      "image/png": "[encoded data removed]",
      "text/plain": [
       "<Figure size 432x288 with 1 Axes>"
      ]
     },
     "metadata": {
      "needs_background": "light"
     },
     "output_type": "display_data"
    },
    {
     "name": "stdout",
     "output_type": "stream",
     "text": [
      "The predicted average temperature in 2022 is 53.71 degrees F\n"
     ]
    }
   ],
   "source": [
    "temp_data.plot('Year','Average_Temp',kind='scatter')\n",
    "(slope, intercept, rvalue, pvalue, stderr) = linregress(temp_data['Year'], temp_data['Average_Temp'])\n",
    "print(f'r^2 correlation between year and US average temp: {rvalue**2}')\n",
    "regress_values = temp_data['Year'] * slope + intercept\n",
    "plt.plot(temp_data['Year'],regress_values)\n",
    "plt.text(1960,54,f\"r^2 = {round((rvalue**2),4)}\")\n",
    "plt.title('Average Temperature (Contiguous US) 1950 to 2020')\n",
    "plt.ylabel('Average Temperature (F)')\n",
    "plt.show()\n",
    "print(f\"The predicted average temperature in 2022 is {round((2022*slope+intercept),2)} degrees F\")"
   ]
  },
  {
   "cell_type": "code",
   "execution_count": null,
   "metadata": {},
   "outputs": [],
   "source": []
  }
 ],
 "metadata": {
  "kernelspec": {
   "display_name": "Python 3",
   "language": "python",
   "name": "python3"
  },
  "language_info": {
   "codemirror_mode": {
    "name": "ipython",
    "version": 3
   },
   "file_extension": ".py",
   "mimetype": "text/x-python",
   "name": "python",
   "nbconvert_exporter": "python",
   "pygments_lexer": "ipython3",
   "version": "3.8.5"
  }
 },
 "nbformat": 4,
 "nbformat_minor": 4
}
