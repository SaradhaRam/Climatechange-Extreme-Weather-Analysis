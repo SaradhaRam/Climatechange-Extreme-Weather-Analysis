{
 "cells": [
  {
   "cell_type": "code",
   "execution_count": 1,
   "metadata": {},
   "outputs": [],
   "source": [
    "import os\n",
    "import pandas as pd\n",
    "import requests\n",
    "from NOAA_NCDC_API_KEY import api_key"
   ]
  },
  {
   "cell_type": "code",
   "execution_count": 13,
   "metadata": {},
   "outputs": [],
   "source": [
    "base_url = \"https://www.ncdc.noaa.gov/cdo-web/api/v2/locationcategories?\"\n",
    "r=requests.get(f\"{base_url}\", headers={\"token\":api_key}).json()"
   ]
  },
  {
   "cell_type": "code",
   "execution_count": 14,
   "metadata": {},
   "outputs": [
    {
     "data": {
      "text/plain": [
       "{'metadata': {'resultset': {'offset': 1, 'count': 12, 'limit': 25}},\n",
       " 'results': [{'name': 'City', 'id': 'CITY'},\n",
       "  {'name': 'Climate Division', 'id': 'CLIM_DIV'},\n",
       "  {'name': 'Climate Region', 'id': 'CLIM_REG'},\n",
       "  {'name': 'Country', 'id': 'CNTRY'},\n",
       "  {'name': 'County', 'id': 'CNTY'},\n",
       "  {'name': 'Hydrologic Accounting Unit', 'id': 'HYD_ACC'},\n",
       "  {'name': 'Hydrologic Cataloging Unit', 'id': 'HYD_CAT'},\n",
       "  {'name': 'Hydrologic Region', 'id': 'HYD_REG'},\n",
       "  {'name': 'Hydrologic Subregion', 'id': 'HYD_SUB'},\n",
       "  {'name': 'State', 'id': 'ST'},\n",
       "  {'name': 'US Territory', 'id': 'US_TERR'},\n",
       "  {'name': 'Zip Code', 'id': 'ZIP'}]}"
      ]
     },
     "execution_count": 14,
     "metadata": {},
     "output_type": "execute_result"
    }
   ],
   "source": [
    "r"
   ]
  },
  {
   "cell_type": "code",
   "execution_count": null,
   "metadata": {},
   "outputs": [],
   "source": []
  }
 ],
 "metadata": {
  "kernelspec": {
   "display_name": "Python 3",
   "language": "python",
   "name": "python3"
  },
  "language_info": {
   "codemirror_mode": {
    "name": "ipython",
    "version": 3
   },
   "file_extension": ".py",
   "mimetype": "text/x-python",
   "name": "python",
   "nbconvert_exporter": "python",
   "pygments_lexer": "ipython3",
   "version": "3.8.5"
  }
 },
 "nbformat": 4,
 "nbformat_minor": 4
}
